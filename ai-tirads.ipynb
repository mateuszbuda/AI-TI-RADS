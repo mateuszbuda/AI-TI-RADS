{
 "cells": [
  {
   "cell_type": "code",
   "execution_count": 1,
   "metadata": {},
   "outputs": [],
   "source": [
    "%matplotlib inline\n",
    "import random\n",
    "import sys\n",
    "import warnings\n",
    "\n",
    "import numpy as np\n",
    "import pandas as pd\n",
    "from sklearn.metrics import roc_auc_score\n",
    "import matplotlib.pyplot as plt\n",
    "\n",
    "warnings.filterwarnings('ignore')\n",
    "\n",
    "from deap import base\n",
    "from deap import creator\n",
    "from deap import tools\n",
    "from deap import algorithms"
   ]
  },
  {
   "cell_type": "code",
   "execution_count": 2,
   "metadata": {},
   "outputs": [
    {
     "data": {
      "text/plain": [
       "'2.7.15 (default, Nov 16 2018, 23:13:11) \\n[GCC 6.3.0 20170516]'"
      ]
     },
     "execution_count": 2,
     "metadata": {},
     "output_type": "execute_result"
    }
   ],
   "source": [
    "sys.version"
   ]
  },
  {
   "cell_type": "markdown",
   "metadata": {},
   "source": [
    "### Read and preprocess data files"
   ]
  },
  {
   "cell_type": "code",
   "execution_count": 3,
   "metadata": {},
   "outputs": [],
   "source": [
    "df_all = pd.read_csv('./data/data_all.csv')\n",
    "df_all.fillna(0, inplace=True)\n",
    "df_all.Calcs1.replace(0, 'None', inplace=True)\n",
    "\n",
    "df_test = pd.read_csv('./data/data_test.csv')"
   ]
  },
  {
   "cell_type": "code",
   "execution_count": 4,
   "metadata": {},
   "outputs": [],
   "source": [
    "categorical_features = ['Composition', 'Echogenicity', 'Shape', 'Calcs1', 'Calcs2', 'Calcs3', 'MargA']\n",
    "df_all_categorical = df_all[categorical_features]\n",
    "df_all_categorical = pd.get_dummies(df_all_categorical)"
   ]
  },
  {
   "cell_type": "code",
   "execution_count": 5,
   "metadata": {},
   "outputs": [
    {
     "name": "stdout",
     "output_type": "stream",
     "text": [
      "Index([u'Composition_Cannot tell', u'Composition_Cystic',\n",
      "       u'Composition_Entirely or almost entirely solid',\n",
      "       u'Composition_Mixed cystic_solid', u'Composition_Spongiform',\n",
      "       u'Echogenicity_Cant classify', u'Echogenicity_Hyper',\n",
      "       u'Echogenicity_Iso', u'Echogenicity_Mild Hypo',\n",
      "       u'Echogenicity_Very Hypo', u'Shape_n', u'Shape_y',\n",
      "       u'MargA_Cant classify', u'MargA_Ill-defined', u'MargA_Lobulated',\n",
      "       u'MargA_Well-defined', u'Calcs_None', u'Calcs_Peripheral_eggshell',\n",
      "       u'Calcs_Colloid', u'Calcs_Macro', u'Calcs_PEF'],\n",
      "      dtype='object')\n"
     ]
    }
   ],
   "source": [
    "df_features = df_all_categorical\n",
    "df_features['Calcs_None'] = df_features.Calcs1_None\n",
    "df_features['Calcs_Peripheral_eggshell'] = df_features.Calcs1_Peripheral_eggshell + df_features.Calcs2_Peripheral_eggshell + df_features.Calcs3_Peripheral_eggshell\n",
    "df_features['Calcs_Colloid'] = df_features.Calcs1_Colloid + df_features.Calcs2_Colloid\n",
    "df_features['Calcs_Macro'] = df_features.Calcs1_Macro + df_features.Calcs2_Macro\n",
    "df_features['Calcs_PEF'] = df_features.Calcs1_PEF + df_features.Calcs2_PEF\n",
    "df_features.drop(columns=['Calcs1_None', 'Calcs2_0', 'Calcs3_0'], inplace=True)\n",
    "df_features.drop(columns=['Calcs1_Peripheral_eggshell', 'Calcs2_Peripheral_eggshell', 'Calcs3_Peripheral_eggshell'], inplace=True)\n",
    "df_features.drop(columns=['Calcs1_Colloid', 'Calcs2_Colloid'], inplace=True)\n",
    "df_features.drop(columns=['Calcs1_Macro', 'Calcs2_Macro'], inplace=True)\n",
    "df_features.drop(columns=['Calcs1_PEF', 'Calcs2_PEF'], inplace=True)\n",
    "print(df_features.columns)"
   ]
  },
  {
   "cell_type": "markdown",
   "metadata": {},
   "source": [
    "### Remove test cases"
   ]
  },
  {
   "cell_type": "code",
   "execution_count": 6,
   "metadata": {},
   "outputs": [],
   "source": [
    "df_features['ID'] = df_all['ID']\n",
    "test_ids = df_test['ID'].as_matrix()\n",
    "df_features = df_features[~df_features.ID.isin(test_ids)]\n",
    "df_features.drop(columns=['ID'], inplace=True)\n",
    "df_train = df_all[~df_all.ID.isin(test_ids)]\n",
    "\n",
    "y_true_train = df_train.Cancer"
   ]
  },
  {
   "cell_type": "markdown",
   "metadata": {},
   "source": [
    "### ROC AUC loss function"
   ]
  },
  {
   "cell_type": "code",
   "execution_count": 7,
   "metadata": {},
   "outputs": [],
   "source": [
    "def tirads_auc_loss(w):\n",
    "    # Add 0 points for cystic and spongiform features which are not optimized\n",
    "    w = np.array([w[:1] + [0] + w[1:3] + [0] + w[3:]])\n",
    "    \n",
    "    X = df_features.as_matrix()\n",
    "    \n",
    "    # Give 0 total points for all cystic and spongiform nodules\n",
    "    x_cyst = X[:, 1]\n",
    "    x_cyst = np.abs(x_cyst - 1)\n",
    "    x_spon = X[:, 4]\n",
    "    x_spon = np.abs(x_spon - 1)\n",
    "    \n",
    "    X = X * np.expand_dims(x_cyst, axis=-1)\n",
    "    X = X * np.expand_dims(x_spon, axis=-1)\n",
    "    \n",
    "    # Compute AI TI-RADS points\n",
    "    ai_tirads_points = np.dot(X, w.T).flatten()\n",
    "    \n",
    "    return roc_auc_score(y_true_train, ai_tirads_points),"
   ]
  },
  {
   "cell_type": "markdown",
   "metadata": {},
   "source": [
    "### Optimization with genetic algorithm"
   ]
  },
  {
   "cell_type": "code",
   "execution_count": 8,
   "metadata": {},
   "outputs": [
    {
     "name": "stdout",
     "output_type": "stream",
     "text": [
      "gen\tnevals\tavg     \tstd        \tmin     \tmax     \n",
      "0  \t100   \t0.790689\t1.11022e-16\t0.790689\t0.790689\n",
      "1  \t61    \t0.788603\t0.00686814 \t0.753779\t0.799356\n",
      "2  \t52    \t0.789393\t0.00931068 \t0.735427\t0.799356\n",
      "3  \t57    \t0.791771\t0.00707812 \t0.744292\t0.800126\n",
      "4  \t53    \t0.794067\t0.00924903 \t0.736318\t0.800354\n",
      "5  \t66    \t0.797745\t0.00747112 \t0.740854\t0.800126\n",
      "6  \t69    \t0.797692\t0.00846417 \t0.74804 \t0.803301\n",
      "7  \t57    \t0.798974\t0.00789054 \t0.727972\t0.803301\n",
      "8  \t69    \t0.799435\t0.00520969 \t0.762078\t0.804198\n",
      "9  \t49    \t0.797177\t0.0278486  \t0.526802\t0.804198\n",
      "10 \t52    \t0.801239\t0.00815886 \t0.738689\t0.804578\n",
      "11 \t61    \t0.802291\t0.00938045 \t0.73688 \t0.811084\n",
      "12 \t65    \t0.803632\t0.00362015 \t0.779922\t0.811084\n",
      "13 \t61    \t0.801956\t0.0186953  \t0.639134\t0.812086\n",
      "14 \t53    \t0.80593 \t0.00877791 \t0.75888 \t0.812936\n",
      "15 \t59    \t0.809477\t0.00605853 \t0.762888\t0.812936\n",
      "16 \t73    \t0.81122 \t0.00387464 \t0.782427\t0.814411\n",
      "17 \t53    \t0.811942\t0.00394484 \t0.774381\t0.814411\n",
      "18 \t65    \t0.810835\t0.0104757  \t0.723309\t0.814411\n",
      "19 \t57    \t0.811406\t0.0122515  \t0.703381\t0.814411\n",
      "20 \t67    \t0.811918\t0.00753381 \t0.760661\t0.814816\n",
      "21 \t55    \t0.811523\t0.0120723  \t0.721247\t0.814816\n",
      "22 \t55    \t0.814008\t0.00323863 \t0.784708\t0.81532 \n",
      "23 \t56    \t0.813201\t0.00742628 \t0.762322\t0.81532 \n",
      "24 \t58    \t0.813084\t0.00675973 \t0.774059\t0.81532 \n",
      "25 \t69    \t0.814447\t0.00381235 \t0.778735\t0.81532 \n",
      "26 \t67    \t0.814056\t0.00545308 \t0.782318\t0.81532 \n",
      "27 \t41    \t0.815048\t0.00163062 \t0.802135\t0.81532 \n",
      "28 \t75    \t0.814445\t0.00526708 \t0.771001\t0.817348\n",
      "29 \t61    \t0.814199\t0.00590655 \t0.765652\t0.817348\n",
      "30 \t65    \t0.814071\t0.00854119 \t0.744264\t0.817348\n",
      "31 \t60    \t0.814585\t0.00782339 \t0.755145\t0.81758 \n",
      "32 \t57    \t0.816159\t0.00489074 \t0.777108\t0.81758 \n",
      "33 \t62    \t0.816944\t0.00177981 \t0.8072  \t0.81758 \n",
      "34 \t54    \t0.816393\t0.0038953  \t0.791511\t0.81758 \n",
      "35 \t59    \t0.816082\t0.00572469 \t0.783116\t0.817654\n",
      "36 \t59    \t0.816278\t0.00637853 \t0.769072\t0.818539\n",
      "37 \t64    \t0.816093\t0.006415   \t0.770287\t0.818539\n",
      "38 \t61    \t0.816824\t0.00469568 \t0.773645\t0.818539\n",
      "39 \t60    \t0.816997\t0.00368636 \t0.796922\t0.818539\n",
      "40 \t60    \t0.817299\t0.00709742 \t0.749518\t0.818539\n",
      "41 \t74    \t0.817546\t0.00501367 \t0.782253\t0.818576\n",
      "42 \t69    \t0.817356\t0.00533887 \t0.773744\t0.818576\n",
      "43 \t49    \t0.818073\t0.00268311 \t0.794996\t0.818576\n",
      "44 \t55    \t0.817395\t0.00483331 \t0.786304\t0.818576\n",
      "45 \t64    \t0.816814\t0.00770311 \t0.759589\t0.818576\n",
      "46 \t58    \t0.81583 \t0.00964899 \t0.760862\t0.818576\n",
      "47 \t56    \t0.818327\t0.00122224 \t0.808672\t0.818613\n",
      "48 \t61    \t0.817302\t0.00621604 \t0.761809\t0.818613\n",
      "49 \t80    \t0.816959\t0.00581417 \t0.780689\t0.818613\n",
      "50 \t61    \t0.817407\t0.00507394 \t0.780479\t0.818613\n"
     ]
    }
   ],
   "source": [
    "# Number of indiviguals in population\n",
    "population_count = 100\n",
    "\n",
    "# Maximize loss function (ROC AUC)\n",
    "creator.create(\"FitnessMax\", base.Fitness, weights=(1.0,))\n",
    "creator.create(\"Individual\", list, fitness=creator.FitnessMax)\n",
    "\n",
    "def initIndividual(icls, content):\n",
    "    return icls(content)\n",
    "\n",
    "# All individuals in initial population are ACR TI-RADS\n",
    "def initPopulation(pcls, ind_init, initial_state):\n",
    "    return [pcls(ind_init(eval(initial_state)))] * population_count\n",
    "\n",
    "toolbox = base.Toolbox()\n",
    "# Attribute generator\n",
    "toolbox.register(\"attr_int\", random.randint, 0, 3)\n",
    "# Structure initializers\n",
    "toolbox.register(\"individual_guess\", initIndividual, creator.Individual)\n",
    "# Individual is a list of 19 integers corresponding to ACR TI-RADS features\n",
    "# excluding cyctic and spongiform (which are not optimized)\n",
    "# and anechoich and extra-thyroidal extension (which are not available)\n",
    "toolbox.register(\"individual\", tools.initRepeat, creator.Individual, toolbox.attr_int, 19)\n",
    "initial_state = '[2, 2, 1, 1, 1, 1, 2, 3, 0, 3, 0, 0, 2, 0, 0, 2, 0, 1, 3]'\n",
    "toolbox.register(\"population_guess\", initPopulation, list, toolbox.individual_guess, initial_state)\n",
    "toolbox.register(\"population\", tools.initRepeat, list, toolbox.individual)\n",
    "\n",
    "# Hyperparameters of genetic algorithm and optimization constraints\n",
    "toolbox.register(\"evaluate\", tirads_auc_loss)\n",
    "toolbox.register(\"mate\", tools.cxTwoPoint)\n",
    "toolbox.register(\"mutate\", tools.mutUniformInt, low=0, up=3, indpb=0.05)\n",
    "toolbox.register(\"select\", tools.selTournament, tournsize=4)\n",
    "\n",
    "epochs = 50\n",
    "\n",
    "# Random seed for reproducibility\n",
    "random.seed(0)\n",
    "\n",
    "hof = tools.HallOfFame(1)\n",
    "pop = toolbox.population(n=population_count)\n",
    "\n",
    "# Initialization\n",
    "initial_state = [2, 2, 1, 1, 1, 1, 2, 3, 0, 3, 0, 0, 2, 0, 0, 2, 0, 1, 3]\n",
    "for _ in range(population_count):\n",
    "    pop.pop()\n",
    "for _ in range(population_count):\n",
    "    guess_ind = creator.Individual(initial_state)\n",
    "    pop.append(guess_ind)\n",
    "\n",
    "# Track optimization progress\n",
    "stats = tools.Statistics(lambda ind: ind.fitness.values)\n",
    "stats.register(\"avg\", np.mean)\n",
    "stats.register(\"std\", np.std)\n",
    "stats.register(\"min\", np.min)\n",
    "stats.register(\"max\", np.max)\n",
    "\n",
    "# Run optimization\n",
    "pop, log = algorithms.eaSimple(\n",
    "    pop, \n",
    "    toolbox, \n",
    "    cxpb=0.5, \n",
    "    mutpb=0.2, \n",
    "    ngen=epochs, \n",
    "    stats=stats, \n",
    "    halloffame=hof, \n",
    "    verbose=True,\n",
    ")"
   ]
  },
  {
   "cell_type": "markdown",
   "metadata": {},
   "source": [
    "### Plot optimization history"
   ]
  },
  {
   "cell_type": "code",
   "execution_count": 9,
   "metadata": {},
   "outputs": [
    {
     "data": {
      "image/png": "[encoded data removed]",
      "text/plain": [
       "<Figure size 576x432 with 1 Axes>"
      ]
     },
     "metadata": {
      "needs_background": "light"
     },
     "output_type": "display_data"
    }
   ],
   "source": [
    "plt.figure(figsize=(8, 6))\n",
    "plt.plot(range(len(log)), [d['avg'] for d in log], color='blue', lw=2)\n",
    "y_max = np.array([d['avg'] + d['std'] for d in log])\n",
    "y_min = np.array([d['avg'] - d['std'] for d in log])\n",
    "plt.fill_between(range(len(log)), y_min, y_max, color='blue', alpha=0.15)\n",
    "plt.xlim([0.0, len(log)])\n",
    "plt.grid(color='silver', alpha=0.3, linestyle='--', linewidth=1)\n",
    "plt.ylabel('ROC AUC', fontsize='x-large')\n",
    "plt.xlabel('Population', fontsize='x-large')\n",
    "plt.tight_layout()"
   ]
  },
  {
   "cell_type": "markdown",
   "metadata": {},
   "source": [
    "### AI TI-RADS points assigned to features"
   ]
  },
  {
   "cell_type": "code",
   "execution_count": 10,
   "metadata": {},
   "outputs": [
    {
     "name": "stdout",
     "output_type": "stream",
     "text": [
      "Composition_Cannot tell : 0\n",
      "Composition_Cystic : 0\n",
      "Composition_Entirely or almost entirely solid : 3\n",
      "Composition_Mixed cystic_solid : 0\n",
      "Composition_Spongiform : 0\n",
      "Echogenicity_Cant classify : 0\n",
      "Echogenicity_Hyper : 0\n",
      "Echogenicity_Iso : 0\n",
      "Echogenicity_Mild Hypo : 2\n",
      "Echogenicity_Very Hypo : 3\n",
      "Shape_n : 0\n",
      "Shape_y : 1\n",
      "MargA_Cant classify : 0\n",
      "MargA_Ill-defined : 0\n",
      "MargA_Lobulated : 2\n",
      "MargA_Well-defined : 0\n",
      "Calcs_None : 0\n",
      "Calcs_Peripheral_eggshell : 2\n",
      "Calcs_Colloid : 0\n",
      "Calcs_Macro : 0\n",
      "Calcs_PEF : 3\n"
     ]
    }
   ],
   "source": [
    "hof = np.array(hof).flatten()\n",
    "hof = hof.tolist()\n",
    "w = np.array(hof[:1] + [0] + hof[1:3] + [0] + hof[3:])\n",
    "# Normalize points within each category\n",
    "w[0:5] = w[0:5] - np.min(w[0:5]) # composition\n",
    "w[5:10] = w[5:10] - np.min(w[5:10]) # echogenicity\n",
    "w[10:12] = w[10:12] - np.min(w[10:12]) # shape\n",
    "w[12:16] = w[12:16] - np.min(w[12:16]) # margin\n",
    "w[16:] = w[16:] - np.min(w[16:]) # echogenic foci\n",
    "# Show points\n",
    "for i in range(len(w)):\n",
    "    print('{} : {}'.format(df_features.columns[i], w[i]))"
   ]
  },
  {
   "cell_type": "code",
   "execution_count": null,
   "metadata": {},
   "outputs": [],
   "source": []
  }
 ],
 "metadata": {
  "kernelspec": {
   "display_name": "Python 2",
   "language": "python",
   "name": "python2"
  },
  "language_info": {
   "codemirror_mode": {
    "name": "ipython",
    "version": 2
   },
   "file_extension": ".py",
   "mimetype": "text/x-python",
   "name": "python",
   "nbconvert_exporter": "python",
   "pygments_lexer": "ipython2",
   "version": "2.7.15"
  }
 },
 "nbformat": 4,
 "nbformat_minor": 2
}
